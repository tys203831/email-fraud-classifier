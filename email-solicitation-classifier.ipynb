{
 "cells": [
  {
   "cell_type": "code",
   "execution_count": 1,
   "id": "633c5bb7",
   "metadata": {
    "_cell_guid": "b1076dfc-b9ad-4769-8c92-a6c4dae69d19",
    "_uuid": "8f2839f25d086af736a60e9eeb907d3b93b6e0e5",
    "execution": {
     "iopub.execute_input": "2023-03-13T15:52:07.674343Z",
     "iopub.status.busy": "2023-03-13T15:52:07.673470Z",
     "iopub.status.idle": "2023-03-13T15:52:07.693003Z",
     "shell.execute_reply": "2023-03-13T15:52:07.691621Z"
    },
    "papermill": {
     "duration": 0.042144,
     "end_time": "2023-03-13T15:52:07.696844",
     "exception": false,
     "start_time": "2023-03-13T15:52:07.654700",
     "status": "completed"
    },
    "tags": []
   },
   "outputs": [
    {
     "name": "stdout",
     "output_type": "stream",
     "text": [
      "/kaggle/input/fraud-email-dataset/fraud_email_.csv\n"
     ]
    }
   ],
   "source": [
    "# This Python 3 environment comes with many helpful analytics libraries installed\n",
    "# It is defined by the kaggle/python Docker image: https://github.com/kaggle/docker-python\n",
    "# For example, here's several helpful packages to load\n",
    "\n",
    "import numpy as np # linear algebra\n",
    "import pandas as pd # data processing, CSV file I/O (e.g. pd.read_csv)\n",
    "\n",
    "# Input data files are available in the read-only \"../input/\" directory\n",
    "# For example, running this (by clicking run or pressing Shift+Enter) will list all files under the input directory\n",
    "\n",
    "import os\n",
    "for dirname, _, filenames in os.walk('/kaggle/input'):\n",
    "    for filename in filenames:\n",
    "        print(os.path.join(dirname, filename))\n",
    "\n",
    "# You can write up to 20GB to the current directory (/kaggle/working/) that gets preserved as output when you create a version using \"Save & Run All\" \n",
    "# You can also write temporary files to /kaggle/temp/, but they won't be saved outside of the current session"
   ]
  },
  {
   "cell_type": "code",
   "execution_count": 2,
   "id": "6612b94f",
   "metadata": {
    "execution": {
     "iopub.execute_input": "2023-03-13T15:52:07.726640Z",
     "iopub.status.busy": "2023-03-13T15:52:07.725749Z",
     "iopub.status.idle": "2023-03-13T15:52:08.300247Z",
     "shell.execute_reply": "2023-03-13T15:52:08.299205Z"
    },
    "papermill": {
     "duration": 0.593623,
     "end_time": "2023-03-13T15:52:08.302948",
     "exception": false,
     "start_time": "2023-03-13T15:52:07.709325",
     "status": "completed"
    },
    "tags": []
   },
   "outputs": [
    {
     "data": {
      "text/html": [
       "<div>\n",
       "<style scoped>\n",
       "    .dataframe tbody tr th:only-of-type {\n",
       "        vertical-align: middle;\n",
       "    }\n",
       "\n",
       "    .dataframe tbody tr th {\n",
       "        vertical-align: top;\n",
       "    }\n",
       "\n",
       "    .dataframe thead th {\n",
       "        text-align: right;\n",
       "    }\n",
       "</style>\n",
       "<table border=\"1\" class=\"dataframe\">\n",
       "  <thead>\n",
       "    <tr style=\"text-align: right;\">\n",
       "      <th></th>\n",
       "      <th>Text</th>\n",
       "      <th>Class</th>\n",
       "    </tr>\n",
       "  </thead>\n",
       "  <tbody>\n",
       "    <tr>\n",
       "      <th>0</th>\n",
       "      <td>Supply Quality China's EXCLUSIVE dimensions at...</td>\n",
       "      <td>1</td>\n",
       "    </tr>\n",
       "    <tr>\n",
       "      <th>1</th>\n",
       "      <td>over. SidLet me know. Thx.</td>\n",
       "      <td>0</td>\n",
       "    </tr>\n",
       "    <tr>\n",
       "      <th>2</th>\n",
       "      <td>Dear Friend,Greetings to you.I wish to accost ...</td>\n",
       "      <td>1</td>\n",
       "    </tr>\n",
       "    <tr>\n",
       "      <th>3</th>\n",
       "      <td>MR. CHEUNG PUIHANG SENG BANK LTD.DES VOEUX RD....</td>\n",
       "      <td>1</td>\n",
       "    </tr>\n",
       "    <tr>\n",
       "      <th>4</th>\n",
       "      <td>Not a surprising assessment from Embassy.</td>\n",
       "      <td>0</td>\n",
       "    </tr>\n",
       "  </tbody>\n",
       "</table>\n",
       "</div>"
      ],
      "text/plain": [
       "                                                Text  Class\n",
       "0  Supply Quality China's EXCLUSIVE dimensions at...      1\n",
       "1                         over. SidLet me know. Thx.      0\n",
       "2  Dear Friend,Greetings to you.I wish to accost ...      1\n",
       "3  MR. CHEUNG PUIHANG SENG BANK LTD.DES VOEUX RD....      1\n",
       "4          Not a surprising assessment from Embassy.      0"
      ]
     },
     "execution_count": 2,
     "metadata": {},
     "output_type": "execute_result"
    }
   ],
   "source": [
    "import pandas\n",
    "\n",
    "df = pandas.read_csv(\"/kaggle/input/fraud-email-dataset/fraud_email_.csv\")\n",
    "df.head()"
   ]
  },
  {
   "cell_type": "code",
   "execution_count": 3,
   "id": "91c7a91a",
   "metadata": {
    "execution": {
     "iopub.execute_input": "2023-03-13T15:52:08.328405Z",
     "iopub.status.busy": "2023-03-13T15:52:08.327324Z",
     "iopub.status.idle": "2023-03-13T15:52:08.334648Z",
     "shell.execute_reply": "2023-03-13T15:52:08.333750Z"
    },
    "papermill": {
     "duration": 0.022291,
     "end_time": "2023-03-13T15:52:08.336907",
     "exception": false,
     "start_time": "2023-03-13T15:52:08.314616",
     "status": "completed"
    },
    "tags": []
   },
   "outputs": [
    {
     "data": {
      "text/plain": [
       "(11929, 2)"
      ]
     },
     "execution_count": 3,
     "metadata": {},
     "output_type": "execute_result"
    }
   ],
   "source": [
    "df.shape"
   ]
  },
  {
   "cell_type": "code",
   "execution_count": 4,
   "id": "b8676efe",
   "metadata": {
    "execution": {
     "iopub.execute_input": "2023-03-13T15:52:08.363146Z",
     "iopub.status.busy": "2023-03-13T15:52:08.362021Z",
     "iopub.status.idle": "2023-03-13T15:52:08.368912Z",
     "shell.execute_reply": "2023-03-13T15:52:08.368078Z"
    },
    "papermill": {
     "duration": 0.023586,
     "end_time": "2023-03-13T15:52:08.371491",
     "exception": false,
     "start_time": "2023-03-13T15:52:08.347905",
     "status": "completed"
    },
    "tags": []
   },
   "outputs": [
    {
     "data": {
      "text/plain": [
       "Index(['Text', 'Class'], dtype='object')"
      ]
     },
     "execution_count": 4,
     "metadata": {},
     "output_type": "execute_result"
    }
   ],
   "source": [
    "df.columns"
   ]
  },
  {
   "cell_type": "code",
   "execution_count": 5,
   "id": "1f439fb9",
   "metadata": {
    "execution": {
     "iopub.execute_input": "2023-03-13T15:52:08.396802Z",
     "iopub.status.busy": "2023-03-13T15:52:08.395650Z",
     "iopub.status.idle": "2023-03-13T15:52:08.419989Z",
     "shell.execute_reply": "2023-03-13T15:52:08.418443Z"
    },
    "papermill": {
     "duration": 0.040223,
     "end_time": "2023-03-13T15:52:08.423027",
     "exception": false,
     "start_time": "2023-03-13T15:52:08.382804",
     "status": "completed"
    },
    "tags": []
   },
   "outputs": [
    {
     "name": "stdout",
     "output_type": "stream",
     "text": [
      "Text      True\n",
      "Class    False\n",
      "dtype: bool\n"
     ]
    }
   ],
   "source": [
    "#check whether got Nan values inside dataframe\n",
    "print(df.isna().any()) \n",
    "\n",
    "# if got we will drop the nan values\n",
    "df.dropna(inplace=True)"
   ]
  },
  {
   "cell_type": "code",
   "execution_count": 6,
   "id": "9b13b78a",
   "metadata": {
    "execution": {
     "iopub.execute_input": "2023-03-13T15:52:08.448559Z",
     "iopub.status.busy": "2023-03-13T15:52:08.447192Z",
     "iopub.status.idle": "2023-03-13T15:52:08.552453Z",
     "shell.execute_reply": "2023-03-13T15:52:08.550753Z"
    },
    "papermill": {
     "duration": 0.121196,
     "end_time": "2023-03-13T15:52:08.555482",
     "exception": false,
     "start_time": "2023-03-13T15:52:08.434286",
     "status": "completed"
    },
    "tags": []
   },
   "outputs": [
    {
     "name": "stdout",
     "output_type": "stream",
     "text": [
      "1679\n"
     ]
    }
   ],
   "source": [
    "# check duplicated row\n",
    "print(df.duplicated().sum())\n",
    "\n",
    "df.drop_duplicates(inplace=True)"
   ]
  },
  {
   "cell_type": "code",
   "execution_count": 7,
   "id": "b770088d",
   "metadata": {
    "execution": {
     "iopub.execute_input": "2023-03-13T15:52:08.582421Z",
     "iopub.status.busy": "2023-03-13T15:52:08.581518Z",
     "iopub.status.idle": "2023-03-13T15:52:08.896650Z",
     "shell.execute_reply": "2023-03-13T15:52:08.895155Z"
    },
    "papermill": {
     "duration": 0.331894,
     "end_time": "2023-03-13T15:52:08.899739",
     "exception": false,
     "start_time": "2023-03-13T15:52:08.567845",
     "status": "completed"
    },
    "tags": []
   },
   "outputs": [
    {
     "name": "stdout",
     "output_type": "stream",
     "text": [
      "0    5915\n",
      "1    4334\n",
      "Name: Class, dtype: int64\n"
     ]
    },
    {
     "data": {
      "text/plain": [
       "Text(0, 0.5, 'Data Count')"
      ]
     },
     "execution_count": 7,
     "metadata": {},
     "output_type": "execute_result"
    },
    {
     "data": {
      "image/png": "[encoded data removed]",
      "text/plain": [
       "<Figure size 500x400 with 1 Axes>"
      ]
     },
     "metadata": {},
     "output_type": "display_data"
    }
   ],
   "source": [
    "from matplotlib import pyplot as plt\n",
    "\n",
    "print(df[\"Class\"].value_counts())\n",
    "\n",
    "# check whether it's a balanced datasets or not\n",
    "plt.figure(figsize=(5,4))\n",
    "df[\"Class\"].map({0:\"Truth\",1:\"Fraud\"}).value_counts().plot(kind=\"bar\")\n",
    "plt.xlabel(\"Class\")\n",
    "plt.ylabel(\"Data Count\")"
   ]
  },
  {
   "cell_type": "code",
   "execution_count": 8,
   "id": "59805f3d",
   "metadata": {
    "execution": {
     "iopub.execute_input": "2023-03-13T15:52:08.928180Z",
     "iopub.status.busy": "2023-03-13T15:52:08.926900Z",
     "iopub.status.idle": "2023-03-13T15:52:28.317458Z",
     "shell.execute_reply": "2023-03-13T15:52:28.315855Z"
    },
    "papermill": {
     "duration": 19.408797,
     "end_time": "2023-03-13T15:52:28.321290",
     "exception": false,
     "start_time": "2023-03-13T15:52:08.912493",
     "status": "completed"
    },
    "tags": []
   },
   "outputs": [],
   "source": [
    "# import all library needed\n",
    "import spacy\n",
    "from sklearn.pipeline import Pipeline\n",
    "from sklearn.feature_extraction.text import TfidfVectorizer\n",
    "from sklearn.model_selection import train_test_split\n",
    "from sklearn.naive_bayes import MultinomialNB\n",
    "from sklearn.metrics import classification_report\n"
   ]
  },
  {
   "cell_type": "markdown",
   "id": "839d53bd",
   "metadata": {
    "papermill": {
     "duration": 0.01141,
     "end_time": "2023-03-13T15:52:28.345049",
     "exception": false,
     "start_time": "2023-03-13T15:52:28.333639",
     "status": "completed"
    },
    "tags": []
   },
   "source": [
    "# Without Preprocessing"
   ]
  },
  {
   "cell_type": "code",
   "execution_count": 9,
   "id": "09c15f3c",
   "metadata": {
    "execution": {
     "iopub.execute_input": "2023-03-13T15:52:28.371720Z",
     "iopub.status.busy": "2023-03-13T15:52:28.370379Z",
     "iopub.status.idle": "2023-03-13T15:52:28.387408Z",
     "shell.execute_reply": "2023-03-13T15:52:28.386233Z"
    },
    "papermill": {
     "duration": 0.033219,
     "end_time": "2023-03-13T15:52:28.389972",
     "exception": false,
     "start_time": "2023-03-13T15:52:28.356753",
     "status": "completed"
    },
    "tags": []
   },
   "outputs": [],
   "source": [
    "# train test split\n",
    "X_train, X_test, y_train, y_test = train_test_split(df[\"Text\"], df[\"Class\"], test_size=0.2, random_state=2023)"
   ]
  },
  {
   "cell_type": "markdown",
   "id": "94714fa9",
   "metadata": {
    "papermill": {
     "duration": 0.011392,
     "end_time": "2023-03-13T15:52:28.413238",
     "exception": false,
     "start_time": "2023-03-13T15:52:28.401846",
     "status": "completed"
    },
    "tags": []
   },
   "source": [
    "## Multinomial Naive Bayes"
   ]
  },
  {
   "cell_type": "code",
   "execution_count": 10,
   "id": "0a3a00af",
   "metadata": {
    "execution": {
     "iopub.execute_input": "2023-03-13T15:52:28.439545Z",
     "iopub.status.busy": "2023-03-13T15:52:28.438702Z",
     "iopub.status.idle": "2023-03-13T15:52:30.842607Z",
     "shell.execute_reply": "2023-03-13T15:52:30.841015Z"
    },
    "papermill": {
     "duration": 2.420663,
     "end_time": "2023-03-13T15:52:30.845605",
     "exception": false,
     "start_time": "2023-03-13T15:52:28.424942",
     "status": "completed"
    },
    "tags": []
   },
   "outputs": [
    {
     "name": "stdout",
     "output_type": "stream",
     "text": [
      "[0 0 0 ... 1 0 0]\n"
     ]
    }
   ],
   "source": [
    "clf = Pipeline([\n",
    "    (\"vectorizer\", TfidfVectorizer(ngram_range=(1,1))),\n",
    "    (\"Mulitnomial NB\", MultinomialNB())\n",
    "])\n",
    "\n",
    "model = clf.fit(X_train, y_train)\n",
    "\n",
    "y_test_pred = model.predict(X_test)\n",
    "print(y_test_pred)"
   ]
  },
  {
   "cell_type": "code",
   "execution_count": 11,
   "id": "d568bc58",
   "metadata": {
    "execution": {
     "iopub.execute_input": "2023-03-13T15:52:30.872597Z",
     "iopub.status.busy": "2023-03-13T15:52:30.872121Z",
     "iopub.status.idle": "2023-03-13T15:52:30.890277Z",
     "shell.execute_reply": "2023-03-13T15:52:30.888297Z"
    },
    "papermill": {
     "duration": 0.03566,
     "end_time": "2023-03-13T15:52:30.893612",
     "exception": false,
     "start_time": "2023-03-13T15:52:30.857952",
     "status": "completed"
    },
    "tags": []
   },
   "outputs": [
    {
     "name": "stdout",
     "output_type": "stream",
     "text": [
      "              precision    recall  f1-score   support\n",
      "\n",
      "           0       0.99      0.96      0.98      1177\n",
      "           1       0.95      0.99      0.97       873\n",
      "\n",
      "    accuracy                           0.98      2050\n",
      "   macro avg       0.97      0.98      0.98      2050\n",
      "weighted avg       0.98      0.98      0.98      2050\n",
      "\n"
     ]
    }
   ],
   "source": [
    "# classification report for Multinomial NB\n",
    "print(classification_report(y_test, y_test_pred))"
   ]
  },
  {
   "cell_type": "markdown",
   "id": "9b4a003e",
   "metadata": {
    "papermill": {
     "duration": 0.01153,
     "end_time": "2023-03-13T15:52:30.917351",
     "exception": false,
     "start_time": "2023-03-13T15:52:30.905821",
     "status": "completed"
    },
    "tags": []
   },
   "source": [
    "## SVC"
   ]
  },
  {
   "cell_type": "code",
   "execution_count": 12,
   "id": "44bffba6",
   "metadata": {
    "execution": {
     "iopub.execute_input": "2023-03-13T15:52:30.943676Z",
     "iopub.status.busy": "2023-03-13T15:52:30.943211Z",
     "iopub.status.idle": "2023-03-13T15:52:54.857848Z",
     "shell.execute_reply": "2023-03-13T15:52:54.855882Z"
    },
    "papermill": {
     "duration": 23.932063,
     "end_time": "2023-03-13T15:52:54.861391",
     "exception": false,
     "start_time": "2023-03-13T15:52:30.929328",
     "status": "completed"
    },
    "tags": []
   },
   "outputs": [
    {
     "name": "stdout",
     "output_type": "stream",
     "text": [
      "[0 0 0 ... 1 0 0]\n"
     ]
    }
   ],
   "source": [
    "from sklearn.svm import SVC\n",
    "\n",
    "clf = Pipeline([\n",
    "    (\"vectorizer\",TfidfVectorizer(ngram_range=(1,1))),\n",
    "    (\"svc\", SVC())\n",
    "])\n",
    "\n",
    "model = clf.fit(X_train,y_train)\n",
    "y_test_pred = model.predict(X_test)\n",
    "print(y_test_pred)"
   ]
  },
  {
   "cell_type": "code",
   "execution_count": 13,
   "id": "361bd1fd",
   "metadata": {
    "execution": {
     "iopub.execute_input": "2023-03-13T15:52:54.889689Z",
     "iopub.status.busy": "2023-03-13T15:52:54.888061Z",
     "iopub.status.idle": "2023-03-13T15:52:54.905218Z",
     "shell.execute_reply": "2023-03-13T15:52:54.903388Z"
    },
    "papermill": {
     "duration": 0.035074,
     "end_time": "2023-03-13T15:52:54.909009",
     "exception": false,
     "start_time": "2023-03-13T15:52:54.873935",
     "status": "completed"
    },
    "tags": []
   },
   "outputs": [
    {
     "name": "stdout",
     "output_type": "stream",
     "text": [
      "              precision    recall  f1-score   support\n",
      "\n",
      "           0       0.98      1.00      0.99      1177\n",
      "           1       1.00      0.97      0.98       873\n",
      "\n",
      "    accuracy                           0.99      2050\n",
      "   macro avg       0.99      0.99      0.99      2050\n",
      "weighted avg       0.99      0.99      0.99      2050\n",
      "\n"
     ]
    }
   ],
   "source": [
    "# classification report for SVC model\n",
    "print(classification_report(y_test, y_test_pred))"
   ]
  },
  {
   "cell_type": "markdown",
   "id": "477fbd81",
   "metadata": {
    "papermill": {
     "duration": 0.012602,
     "end_time": "2023-03-13T15:52:54.935204",
     "exception": false,
     "start_time": "2023-03-13T15:52:54.922602",
     "status": "completed"
    },
    "tags": []
   },
   "source": [
    "# With Preprocessing"
   ]
  },
  {
   "cell_type": "code",
   "execution_count": 14,
   "id": "8c9b3e72",
   "metadata": {
    "execution": {
     "iopub.execute_input": "2023-03-13T15:52:54.962344Z",
     "iopub.status.busy": "2023-03-13T15:52:54.961858Z",
     "iopub.status.idle": "2023-03-13T16:00:34.228520Z",
     "shell.execute_reply": "2023-03-13T16:00:34.227089Z"
    },
    "papermill": {
     "duration": 459.284102,
     "end_time": "2023-03-13T16:00:34.231724",
     "exception": false,
     "start_time": "2023-03-13T15:52:54.947622",
     "status": "completed"
    },
    "tags": []
   },
   "outputs": [],
   "source": [
    "# preprocess word\n",
    "# remove punctuations, stop words, and then lemmatize words\n",
    "\n",
    "from spacy.lang.en.stop_words import STOP_WORDS\n",
    "nlp = spacy.load(\"en_core_web_sm\")\n",
    "\n",
    "def preprocess(text):\n",
    "    doc = nlp(str(text))\n",
    "    lemma_token: list = [token.lemma_ for token in doc if not token.is_punct and not token.is_stop]\n",
    "    return \" \".join(lemma_token)\n",
    "\n",
    "df[\"Text\"] = df[\"Text\"].apply(preprocess)"
   ]
  },
  {
   "cell_type": "code",
   "execution_count": 15,
   "id": "e6364ada",
   "metadata": {
    "execution": {
     "iopub.execute_input": "2023-03-13T16:00:34.258851Z",
     "iopub.status.busy": "2023-03-13T16:00:34.258410Z",
     "iopub.status.idle": "2023-03-13T16:00:34.269604Z",
     "shell.execute_reply": "2023-03-13T16:00:34.268513Z"
    },
    "papermill": {
     "duration": 0.02823,
     "end_time": "2023-03-13T16:00:34.272540",
     "exception": false,
     "start_time": "2023-03-13T16:00:34.244310",
     "status": "completed"
    },
    "tags": []
   },
   "outputs": [],
   "source": [
    "# train test split\n",
    "X_train, X_test, y_train, y_test = train_test_split(df[\"Text\"], df[\"Class\"], test_size=0.2, random_state=2023)"
   ]
  },
  {
   "cell_type": "markdown",
   "id": "9f26b771",
   "metadata": {
    "papermill": {
     "duration": 0.011579,
     "end_time": "2023-03-13T16:00:34.296196",
     "exception": false,
     "start_time": "2023-03-13T16:00:34.284617",
     "status": "completed"
    },
    "tags": []
   },
   "source": [
    "## Multinomial Naive Bayes Model"
   ]
  },
  {
   "cell_type": "markdown",
   "id": "40dc3ac5",
   "metadata": {
    "papermill": {
     "duration": 0.011683,
     "end_time": "2023-03-13T16:00:34.320158",
     "exception": false,
     "start_time": "2023-03-13T16:00:34.308475",
     "status": "completed"
    },
    "tags": []
   },
   "source": [
    "### unigrams - Bag of n-words"
   ]
  },
  {
   "cell_type": "code",
   "execution_count": 16,
   "id": "9f1c8c28",
   "metadata": {
    "execution": {
     "iopub.execute_input": "2023-03-13T16:00:34.346568Z",
     "iopub.status.busy": "2023-03-13T16:00:34.346124Z",
     "iopub.status.idle": "2023-03-13T16:00:36.014574Z",
     "shell.execute_reply": "2023-03-13T16:00:36.012804Z"
    },
    "papermill": {
     "duration": 1.686485,
     "end_time": "2023-03-13T16:00:36.018698",
     "exception": false,
     "start_time": "2023-03-13T16:00:34.332213",
     "status": "completed"
    },
    "tags": []
   },
   "outputs": [
    {
     "name": "stdout",
     "output_type": "stream",
     "text": [
      "[0 0 0 ... 1 0 0]\n"
     ]
    }
   ],
   "source": [
    "clf = Pipeline([\n",
    "    (\"vectorizer\", TfidfVectorizer(ngram_range=(1,1))),\n",
    "    (\"Mulitnomial NB\", MultinomialNB())\n",
    "])\n",
    "\n",
    "model = clf.fit(X_train, y_train)\n",
    "\n",
    "y_test_pred = model.predict(X_test)\n",
    "print(y_test_pred)"
   ]
  },
  {
   "cell_type": "code",
   "execution_count": 17,
   "id": "ff00ec63",
   "metadata": {
    "execution": {
     "iopub.execute_input": "2023-03-13T16:00:36.045832Z",
     "iopub.status.busy": "2023-03-13T16:00:36.045395Z",
     "iopub.status.idle": "2023-03-13T16:00:36.060153Z",
     "shell.execute_reply": "2023-03-13T16:00:36.058625Z"
    },
    "papermill": {
     "duration": 0.03187,
     "end_time": "2023-03-13T16:00:36.063209",
     "exception": false,
     "start_time": "2023-03-13T16:00:36.031339",
     "status": "completed"
    },
    "tags": []
   },
   "outputs": [
    {
     "name": "stdout",
     "output_type": "stream",
     "text": [
      "              precision    recall  f1-score   support\n",
      "\n",
      "           0       0.99      0.97      0.98      1177\n",
      "           1       0.96      0.99      0.98       873\n",
      "\n",
      "    accuracy                           0.98      2050\n",
      "   macro avg       0.98      0.98      0.98      2050\n",
      "weighted avg       0.98      0.98      0.98      2050\n",
      "\n"
     ]
    }
   ],
   "source": [
    "# classification report for Multinomial NB\n",
    "print(classification_report(y_test, y_test_pred))"
   ]
  },
  {
   "cell_type": "markdown",
   "id": "a9e79aa9",
   "metadata": {
    "papermill": {
     "duration": 0.011858,
     "end_time": "2023-03-13T16:00:36.087575",
     "exception": false,
     "start_time": "2023-03-13T16:00:36.075717",
     "status": "completed"
    },
    "tags": []
   },
   "source": [
    "### trigrams - Bag of n-words"
   ]
  },
  {
   "cell_type": "code",
   "execution_count": 18,
   "id": "876ad563",
   "metadata": {
    "execution": {
     "iopub.execute_input": "2023-03-13T16:00:36.114365Z",
     "iopub.status.busy": "2023-03-13T16:00:36.113878Z",
     "iopub.status.idle": "2023-03-13T16:00:42.231924Z",
     "shell.execute_reply": "2023-03-13T16:00:42.230483Z"
    },
    "papermill": {
     "duration": 6.135299,
     "end_time": "2023-03-13T16:00:42.235563",
     "exception": false,
     "start_time": "2023-03-13T16:00:36.100264",
     "status": "completed"
    },
    "tags": []
   },
   "outputs": [
    {
     "name": "stdout",
     "output_type": "stream",
     "text": [
      "[0 0 0 ... 0 0 0]\n"
     ]
    }
   ],
   "source": [
    "clf = Pipeline([\n",
    "    (\"vectorizer\", TfidfVectorizer(ngram_range=(3,3))),\n",
    "    (\"Mulitnomial NB\", MultinomialNB())\n",
    "])\n",
    "\n",
    "model = clf.fit(X_train, y_train)\n",
    "\n",
    "y_test_pred = model.predict(X_test)\n",
    "print(y_test_pred)"
   ]
  },
  {
   "cell_type": "code",
   "execution_count": 19,
   "id": "d6930f2a",
   "metadata": {
    "execution": {
     "iopub.execute_input": "2023-03-13T16:00:42.262703Z",
     "iopub.status.busy": "2023-03-13T16:00:42.262203Z",
     "iopub.status.idle": "2023-03-13T16:00:42.278634Z",
     "shell.execute_reply": "2023-03-13T16:00:42.276397Z"
    },
    "papermill": {
     "duration": 0.03405,
     "end_time": "2023-03-13T16:00:42.282431",
     "exception": false,
     "start_time": "2023-03-13T16:00:42.248381",
     "status": "completed"
    },
    "tags": []
   },
   "outputs": [
    {
     "name": "stdout",
     "output_type": "stream",
     "text": [
      "              precision    recall  f1-score   support\n",
      "\n",
      "           0       0.96      1.00      0.98      1177\n",
      "           1       1.00      0.95      0.97       873\n",
      "\n",
      "    accuracy                           0.98      2050\n",
      "   macro avg       0.98      0.97      0.98      2050\n",
      "weighted avg       0.98      0.98      0.98      2050\n",
      "\n"
     ]
    }
   ],
   "source": [
    "# classification report for Multinomial NB\n",
    "print(classification_report(y_test, y_test_pred))"
   ]
  },
  {
   "cell_type": "markdown",
   "id": "9a4bc34b",
   "metadata": {
    "papermill": {
     "duration": 0.01222,
     "end_time": "2023-03-13T16:00:42.307797",
     "exception": false,
     "start_time": "2023-03-13T16:00:42.295577",
     "status": "completed"
    },
    "tags": []
   },
   "source": [
    "## SVC Model"
   ]
  },
  {
   "cell_type": "markdown",
   "id": "11d572e1",
   "metadata": {
    "papermill": {
     "duration": 0.011862,
     "end_time": "2023-03-13T16:00:42.332244",
     "exception": false,
     "start_time": "2023-03-13T16:00:42.320382",
     "status": "completed"
    },
    "tags": []
   },
   "source": [
    "### unigrams - Bag of n-words"
   ]
  },
  {
   "cell_type": "code",
   "execution_count": 20,
   "id": "7e495925",
   "metadata": {
    "execution": {
     "iopub.execute_input": "2023-03-13T16:00:42.359096Z",
     "iopub.status.busy": "2023-03-13T16:00:42.358578Z",
     "iopub.status.idle": "2023-03-13T16:01:02.373657Z",
     "shell.execute_reply": "2023-03-13T16:01:02.371451Z"
    },
    "papermill": {
     "duration": 20.032994,
     "end_time": "2023-03-13T16:01:02.377701",
     "exception": false,
     "start_time": "2023-03-13T16:00:42.344707",
     "status": "completed"
    },
    "tags": []
   },
   "outputs": [
    {
     "name": "stdout",
     "output_type": "stream",
     "text": [
      "[0 0 0 ... 1 0 0]\n"
     ]
    }
   ],
   "source": [
    "from sklearn.svm import SVC\n",
    "\n",
    "clf = Pipeline([\n",
    "    (\"vectorizer\",TfidfVectorizer(ngram_range=(1,1))),\n",
    "    (\"svc\", SVC())\n",
    "])\n",
    "\n",
    "model = clf.fit(X_train,y_train)\n",
    "y_test_pred = model.predict(X_test)\n",
    "print(y_test_pred)"
   ]
  },
  {
   "cell_type": "code",
   "execution_count": 21,
   "id": "d5f07427",
   "metadata": {
    "execution": {
     "iopub.execute_input": "2023-03-13T16:01:02.406326Z",
     "iopub.status.busy": "2023-03-13T16:01:02.404904Z",
     "iopub.status.idle": "2023-03-13T16:01:02.419676Z",
     "shell.execute_reply": "2023-03-13T16:01:02.417949Z"
    },
    "papermill": {
     "duration": 0.031888,
     "end_time": "2023-03-13T16:01:02.422734",
     "exception": false,
     "start_time": "2023-03-13T16:01:02.390846",
     "status": "completed"
    },
    "tags": []
   },
   "outputs": [
    {
     "name": "stdout",
     "output_type": "stream",
     "text": [
      "              precision    recall  f1-score   support\n",
      "\n",
      "           0       0.98      1.00      0.99      1177\n",
      "           1       0.99      0.97      0.98       873\n",
      "\n",
      "    accuracy                           0.99      2050\n",
      "   macro avg       0.99      0.99      0.99      2050\n",
      "weighted avg       0.99      0.99      0.99      2050\n",
      "\n"
     ]
    }
   ],
   "source": [
    "print(classification_report(y_test, y_test_pred))"
   ]
  },
  {
   "cell_type": "markdown",
   "id": "071fb51b",
   "metadata": {
    "papermill": {
     "duration": 0.012406,
     "end_time": "2023-03-13T16:01:02.448103",
     "exception": false,
     "start_time": "2023-03-13T16:01:02.435697",
     "status": "completed"
    },
    "tags": []
   },
   "source": [
    "### trigrams - Bag of n-words"
   ]
  },
  {
   "cell_type": "code",
   "execution_count": 22,
   "id": "789ea920",
   "metadata": {
    "execution": {
     "iopub.execute_input": "2023-03-13T16:01:02.475682Z",
     "iopub.status.busy": "2023-03-13T16:01:02.475199Z",
     "iopub.status.idle": "2023-03-13T16:02:17.158120Z",
     "shell.execute_reply": "2023-03-13T16:02:17.156584Z"
    },
    "papermill": {
     "duration": 74.713897,
     "end_time": "2023-03-13T16:02:17.174574",
     "exception": false,
     "start_time": "2023-03-13T16:01:02.460677",
     "status": "completed"
    },
    "tags": []
   },
   "outputs": [
    {
     "name": "stdout",
     "output_type": "stream",
     "text": [
      "[0 0 0 ... 0 0 0]\n"
     ]
    }
   ],
   "source": [
    "from sklearn.svm import SVC\n",
    "\n",
    "clf = Pipeline([\n",
    "    (\"vectorizer\",TfidfVectorizer(ngram_range=(3,3))),\n",
    "    (\"svc\", SVC())\n",
    "])\n",
    "\n",
    "model = clf.fit(X_train,y_train)\n",
    "y_test_pred = model.predict(X_test)\n",
    "print(y_test_pred)"
   ]
  },
  {
   "cell_type": "code",
   "execution_count": 23,
   "id": "adee072a",
   "metadata": {
    "execution": {
     "iopub.execute_input": "2023-03-13T16:02:17.202931Z",
     "iopub.status.busy": "2023-03-13T16:02:17.202479Z",
     "iopub.status.idle": "2023-03-13T16:02:17.216906Z",
     "shell.execute_reply": "2023-03-13T16:02:17.215243Z"
    },
    "papermill": {
     "duration": 0.032435,
     "end_time": "2023-03-13T16:02:17.220316",
     "exception": false,
     "start_time": "2023-03-13T16:02:17.187881",
     "status": "completed"
    },
    "tags": []
   },
   "outputs": [
    {
     "name": "stdout",
     "output_type": "stream",
     "text": [
      "              precision    recall  f1-score   support\n",
      "\n",
      "           0       0.90      1.00      0.94      1177\n",
      "           1       1.00      0.84      0.91       873\n",
      "\n",
      "    accuracy                           0.93      2050\n",
      "   macro avg       0.95      0.92      0.93      2050\n",
      "weighted avg       0.94      0.93      0.93      2050\n",
      "\n"
     ]
    }
   ],
   "source": [
    "print(classification_report(y_test, y_test_pred))"
   ]
  },
  {
   "cell_type": "markdown",
   "id": "bad15940",
   "metadata": {
    "papermill": {
     "duration": 0.012189,
     "end_time": "2023-03-13T16:02:17.245488",
     "exception": false,
     "start_time": "2023-03-13T16:02:17.233299",
     "status": "completed"
    },
    "tags": []
   },
   "source": [
    "### unigrams to trigrams - Bag of n-words\n",
    "\n"
   ]
  },
  {
   "cell_type": "code",
   "execution_count": 24,
   "id": "f092a1a8",
   "metadata": {
    "execution": {
     "iopub.execute_input": "2023-03-13T16:02:17.281594Z",
     "iopub.status.busy": "2023-03-13T16:02:17.280454Z",
     "iopub.status.idle": "2023-03-13T16:04:07.118967Z",
     "shell.execute_reply": "2023-03-13T16:04:07.117847Z"
    },
    "papermill": {
     "duration": 109.875035,
     "end_time": "2023-03-13T16:04:07.134015",
     "exception": false,
     "start_time": "2023-03-13T16:02:17.258980",
     "status": "completed"
    },
    "tags": []
   },
   "outputs": [
    {
     "name": "stdout",
     "output_type": "stream",
     "text": [
      "[0 0 0 ... 1 0 0]\n"
     ]
    }
   ],
   "source": [
    "from sklearn.svm import SVC\n",
    "\n",
    "clf = Pipeline([\n",
    "    (\"vectorizer\",TfidfVectorizer(ngram_range=(1,3))),\n",
    "    (\"svc\", SVC())\n",
    "])\n",
    "\n",
    "model = clf.fit(X_train,y_train)\n",
    "y_test_pred = model.predict(X_test)\n",
    "print(y_test_pred)"
   ]
  },
  {
   "cell_type": "code",
   "execution_count": 25,
   "id": "51a66980",
   "metadata": {
    "execution": {
     "iopub.execute_input": "2023-03-13T16:04:07.163269Z",
     "iopub.status.busy": "2023-03-13T16:04:07.162484Z",
     "iopub.status.idle": "2023-03-13T16:04:07.176487Z",
     "shell.execute_reply": "2023-03-13T16:04:07.175106Z"
    },
    "papermill": {
     "duration": 0.034123,
     "end_time": "2023-03-13T16:04:07.181467",
     "exception": false,
     "start_time": "2023-03-13T16:04:07.147344",
     "status": "completed"
    },
    "tags": []
   },
   "outputs": [
    {
     "name": "stdout",
     "output_type": "stream",
     "text": [
      "              precision    recall  f1-score   support\n",
      "\n",
      "           0       0.98      1.00      0.99      1177\n",
      "           1       0.99      0.97      0.98       873\n",
      "\n",
      "    accuracy                           0.98      2050\n",
      "   macro avg       0.99      0.98      0.98      2050\n",
      "weighted avg       0.98      0.98      0.98      2050\n",
      "\n"
     ]
    }
   ],
   "source": [
    "print(classification_report(y_test, y_test_pred))"
   ]
  },
  {
   "cell_type": "markdown",
   "id": "67507f6a",
   "metadata": {
    "papermill": {
     "duration": 0.012641,
     "end_time": "2023-03-13T16:04:07.207239",
     "exception": false,
     "start_time": "2023-03-13T16:04:07.194598",
     "status": "completed"
    },
    "tags": []
   },
   "source": [
    "## Random Forest Model"
   ]
  },
  {
   "cell_type": "markdown",
   "id": "f794008d",
   "metadata": {
    "papermill": {
     "duration": 0.012165,
     "end_time": "2023-03-13T16:04:07.232660",
     "exception": false,
     "start_time": "2023-03-13T16:04:07.220495",
     "status": "completed"
    },
    "tags": []
   },
   "source": [
    "### unigrams - Bag of n-words"
   ]
  },
  {
   "cell_type": "code",
   "execution_count": 26,
   "id": "be5a2308",
   "metadata": {
    "execution": {
     "iopub.execute_input": "2023-03-13T16:04:07.260343Z",
     "iopub.status.busy": "2023-03-13T16:04:07.259849Z",
     "iopub.status.idle": "2023-03-13T16:04:22.856907Z",
     "shell.execute_reply": "2023-03-13T16:04:22.854895Z"
    },
    "papermill": {
     "duration": 15.615533,
     "end_time": "2023-03-13T16:04:22.861090",
     "exception": false,
     "start_time": "2023-03-13T16:04:07.245557",
     "status": "completed"
    },
    "tags": []
   },
   "outputs": [
    {
     "name": "stdout",
     "output_type": "stream",
     "text": [
      "[0 0 0 ... 1 0 0]\n"
     ]
    }
   ],
   "source": [
    "from sklearn.ensemble import RandomForestClassifier\n",
    "\n",
    "clf = Pipeline([\n",
    "    (\"vectorizer\",TfidfVectorizer(ngram_range=(1,1))),\n",
    "    (\"random forest\", RandomForestClassifier())\n",
    "])\n",
    "\n",
    "model = clf.fit(X_train,y_train)\n",
    "y_test_pred = model.predict(X_test)\n",
    "print(y_test_pred)"
   ]
  },
  {
   "cell_type": "code",
   "execution_count": 27,
   "id": "b8fa2fe0",
   "metadata": {
    "execution": {
     "iopub.execute_input": "2023-03-13T16:04:22.892266Z",
     "iopub.status.busy": "2023-03-13T16:04:22.891588Z",
     "iopub.status.idle": "2023-03-13T16:04:22.907014Z",
     "shell.execute_reply": "2023-03-13T16:04:22.905566Z"
    },
    "papermill": {
     "duration": 0.034805,
     "end_time": "2023-03-13T16:04:22.911767",
     "exception": false,
     "start_time": "2023-03-13T16:04:22.876962",
     "status": "completed"
    },
    "tags": []
   },
   "outputs": [
    {
     "name": "stdout",
     "output_type": "stream",
     "text": [
      "              precision    recall  f1-score   support\n",
      "\n",
      "           0       0.98      0.99      0.99      1177\n",
      "           1       0.99      0.98      0.98       873\n",
      "\n",
      "    accuracy                           0.99      2050\n",
      "   macro avg       0.99      0.98      0.99      2050\n",
      "weighted avg       0.99      0.99      0.99      2050\n",
      "\n"
     ]
    }
   ],
   "source": [
    "print(classification_report(y_test, y_test_pred))"
   ]
  },
  {
   "cell_type": "markdown",
   "id": "e18faa0f",
   "metadata": {
    "papermill": {
     "duration": 0.012742,
     "end_time": "2023-03-13T16:04:22.939154",
     "exception": false,
     "start_time": "2023-03-13T16:04:22.926412",
     "status": "completed"
    },
    "tags": []
   },
   "source": [
    "### unigrams to trigrams - Bag of n-words"
   ]
  },
  {
   "cell_type": "code",
   "execution_count": 28,
   "id": "7224072e",
   "metadata": {
    "execution": {
     "iopub.execute_input": "2023-03-13T16:04:22.969248Z",
     "iopub.status.busy": "2023-03-13T16:04:22.968276Z",
     "iopub.status.idle": "2023-03-13T16:07:18.590603Z",
     "shell.execute_reply": "2023-03-13T16:07:18.589303Z"
    },
    "papermill": {
     "duration": 175.65339,
     "end_time": "2023-03-13T16:07:18.605702",
     "exception": false,
     "start_time": "2023-03-13T16:04:22.952312",
     "status": "completed"
    },
    "tags": []
   },
   "outputs": [
    {
     "name": "stdout",
     "output_type": "stream",
     "text": [
      "[0 0 0 ... 1 0 0]\n"
     ]
    }
   ],
   "source": [
    "from sklearn.ensemble import RandomForestClassifier\n",
    "\n",
    "clf = Pipeline([\n",
    "    (\"vectorizer\",TfidfVectorizer(ngram_range=(1,3))),\n",
    "    (\"random forest\", RandomForestClassifier())\n",
    "])\n",
    "\n",
    "model = clf.fit(X_train,y_train)\n",
    "y_test_pred = model.predict(X_test)\n",
    "print(y_test_pred)"
   ]
  },
  {
   "cell_type": "code",
   "execution_count": 29,
   "id": "e00a15c3",
   "metadata": {
    "execution": {
     "iopub.execute_input": "2023-03-13T16:07:18.636129Z",
     "iopub.status.busy": "2023-03-13T16:07:18.634866Z",
     "iopub.status.idle": "2023-03-13T16:07:18.650187Z",
     "shell.execute_reply": "2023-03-13T16:07:18.648167Z"
    },
    "papermill": {
     "duration": 0.034605,
     "end_time": "2023-03-13T16:07:18.653438",
     "exception": false,
     "start_time": "2023-03-13T16:07:18.618833",
     "status": "completed"
    },
    "tags": []
   },
   "outputs": [
    {
     "name": "stdout",
     "output_type": "stream",
     "text": [
      "              precision    recall  f1-score   support\n",
      "\n",
      "           0       0.97      0.99      0.98      1177\n",
      "           1       0.98      0.96      0.97       873\n",
      "\n",
      "    accuracy                           0.97      2050\n",
      "   macro avg       0.97      0.97      0.97      2050\n",
      "weighted avg       0.97      0.97      0.97      2050\n",
      "\n"
     ]
    }
   ],
   "source": [
    "print(classification_report(y_test, y_test_pred))"
   ]
  },
  {
   "cell_type": "markdown",
   "id": "4e10d57a",
   "metadata": {
    "papermill": {
     "duration": 0.012712,
     "end_time": "2023-03-13T16:07:18.679448",
     "exception": false,
     "start_time": "2023-03-13T16:07:18.666736",
     "status": "completed"
    },
    "tags": []
   },
   "source": [
    "# The Best Model"
   ]
  },
  {
   "cell_type": "markdown",
   "id": "e7aff27d",
   "metadata": {
    "papermill": {
     "duration": 0.012687,
     "end_time": "2023-03-13T16:07:18.705193",
     "exception": false,
     "start_time": "2023-03-13T16:07:18.692506",
     "status": "completed"
    },
    "tags": []
   },
   "source": [
    "The best model is SVC model without preprocessing, with unigrams language models."
   ]
  },
  {
   "cell_type": "code",
   "execution_count": 30,
   "id": "f29f2bd3",
   "metadata": {
    "execution": {
     "iopub.execute_input": "2023-03-13T16:07:18.734959Z",
     "iopub.status.busy": "2023-03-13T16:07:18.733726Z",
     "iopub.status.idle": "2023-03-13T16:07:19.023432Z",
     "shell.execute_reply": "2023-03-13T16:07:19.021402Z"
    },
    "papermill": {
     "duration": 0.307179,
     "end_time": "2023-03-13T16:07:19.026039",
     "exception": false,
     "start_time": "2023-03-13T16:07:18.718860",
     "status": "completed"
    },
    "tags": []
   },
   "outputs": [
    {
     "name": "stdout",
     "output_type": "stream",
     "text": [
      "Text      True\n",
      "Class    False\n",
      "dtype: bool\n",
      "1679\n"
     ]
    }
   ],
   "source": [
    "import pandas\n",
    "\n",
    "df = pandas.read_csv(\"/kaggle/input/fraud-email-dataset/fraud_email_.csv\")\n",
    "df.head()\n",
    "\n",
    "print(df.isna().any())\n",
    "df.dropna(inplace=True)\n",
    "\n",
    "print(df.duplicated().sum())\n",
    "df.drop_duplicates(inplace=True)\n",
    "\n",
    "# train test split\n",
    "X_train, X_test, y_train, y_test = train_test_split(df[\"Text\"], df[\"Class\"], test_size=0.2, random_state=2023)"
   ]
  },
  {
   "cell_type": "code",
   "execution_count": 31,
   "id": "c20952c4",
   "metadata": {
    "execution": {
     "iopub.execute_input": "2023-03-13T16:07:19.054806Z",
     "iopub.status.busy": "2023-03-13T16:07:19.054306Z",
     "iopub.status.idle": "2023-03-13T16:07:42.450824Z",
     "shell.execute_reply": "2023-03-13T16:07:42.449314Z"
    },
    "papermill": {
     "duration": 23.41498,
     "end_time": "2023-03-13T16:07:42.454289",
     "exception": false,
     "start_time": "2023-03-13T16:07:19.039309",
     "status": "completed"
    },
    "tags": []
   },
   "outputs": [
    {
     "name": "stdout",
     "output_type": "stream",
     "text": [
      "[0 0 0 ... 1 0 0]\n"
     ]
    }
   ],
   "source": [
    "from sklearn.svm import SVC\n",
    "\n",
    "clf = Pipeline([\n",
    "    (\"vectorizer\",TfidfVectorizer(ngram_range=(1,1))),\n",
    "    (\"svc\", SVC())\n",
    "])\n",
    "\n",
    "model = clf.fit(X_train,y_train)\n",
    "y_test_pred = model.predict(X_test)\n",
    "print(y_test_pred)"
   ]
  },
  {
   "cell_type": "code",
   "execution_count": 32,
   "id": "6883fe00",
   "metadata": {
    "execution": {
     "iopub.execute_input": "2023-03-13T16:07:42.482606Z",
     "iopub.status.busy": "2023-03-13T16:07:42.482136Z",
     "iopub.status.idle": "2023-03-13T16:07:42.995828Z",
     "shell.execute_reply": "2023-03-13T16:07:42.994560Z"
    },
    "papermill": {
     "duration": 0.530932,
     "end_time": "2023-03-13T16:07:42.998422",
     "exception": false,
     "start_time": "2023-03-13T16:07:42.467490",
     "status": "completed"
    },
    "tags": []
   },
   "outputs": [
    {
     "data": {
      "text/plain": [
       "Text(33.22222222222222, 0.5, 'Truth')"
      ]
     },
     "execution_count": 32,
     "metadata": {},
     "output_type": "execute_result"
    },
    {
     "data": {
      "image/png": "[encoded data removed]",
      "text/plain": [
       "<Figure size 500x400 with 2 Axes>"
      ]
     },
     "metadata": {},
     "output_type": "display_data"
    }
   ],
   "source": [
    "# print the confusion matrix for the best model\n",
    "from sklearn.metrics import confusion_matrix\n",
    "from matplotlib import pyplot as plt\n",
    "import seaborn as sn\n",
    "\n",
    "cm = confusion_matrix(y_test,y_test_pred)\n",
    "\n",
    "plt.figure(figsize=(5,4))\n",
    "sn.heatmap(cm,annot=True,fmt='d')\n",
    "plt.xlabel(\"Prediction\")\n",
    "plt.ylabel(\"Truth\")\n",
    "\n"
   ]
  },
  {
   "cell_type": "markdown",
   "id": "45f15e29",
   "metadata": {
    "papermill": {
     "duration": 0.012897,
     "end_time": "2023-03-13T16:07:43.025306",
     "exception": false,
     "start_time": "2023-03-13T16:07:43.012409",
     "status": "completed"
    },
    "tags": []
   },
   "source": [
    "# Observation"
   ]
  }
 ],
 "metadata": {
  "kernelspec": {
   "display_name": "Python 3",
   "language": "python",
   "name": "python3"
  },
  "language_info": {
   "codemirror_mode": {
    "name": "ipython",
    "version": 3
   },
   "file_extension": ".py",
   "mimetype": "text/x-python",
   "name": "python",
   "nbconvert_exporter": "python",
   "pygments_lexer": "ipython3",
   "version": "3.7.12"
  },
  "papermill": {
   "default_parameters": {},
   "duration": 949.672413,
   "end_time": "2023-03-13T16:07:45.861561",
   "environment_variables": {},
   "exception": null,
   "input_path": "__notebook__.ipynb",
   "output_path": "__notebook__.ipynb",
   "parameters": {},
   "start_time": "2023-03-13T15:51:56.189148",
   "version": "2.4.0"
  }
 },
 "nbformat": 4,
 "nbformat_minor": 5
}
